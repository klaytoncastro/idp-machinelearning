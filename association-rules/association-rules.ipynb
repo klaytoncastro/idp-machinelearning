{
  "cells": [
    {
      "cell_type": "code",
      "execution_count": null,
      "metadata": {
        "colab": {
          "base_uri": "https://localhost:8080/"
        },
        "id": "wa_Cqk2X3SIQ",
        "outputId": "6d949bab-d50f-4c0f-b723-0a71399d152c"
      },
      "outputs": [
        {
          "name": "stdout",
          "output_type": "stream",
          "text": [
            "              antecedents            consequents  antecedent support  \\\n",
            "0          (Kidney Beans)                 (Eggs)                 1.0   \n",
            "1                  (Eggs)         (Kidney Beans)                 0.8   \n",
            "2                 (Onion)                 (Eggs)                 0.6   \n",
            "3                  (Eggs)                (Onion)                 0.8   \n",
            "4                  (Milk)         (Kidney Beans)                 0.6   \n",
            "5                 (Onion)         (Kidney Beans)                 0.6   \n",
            "6                (Yogurt)         (Kidney Beans)                 0.6   \n",
            "7           (Onion, Eggs)         (Kidney Beans)                 0.6   \n",
            "8   (Onion, Kidney Beans)                 (Eggs)                 0.6   \n",
            "9    (Kidney Beans, Eggs)                (Onion)                 0.8   \n",
            "10                (Onion)   (Kidney Beans, Eggs)                 0.6   \n",
            "11                 (Eggs)  (Onion, Kidney Beans)                 0.8   \n",
            "\n",
            "    consequent support  support  confidence  lift  leverage  conviction  \\\n",
            "0                  0.8      0.8        0.80  1.00      0.00         1.0   \n",
            "1                  1.0      0.8        1.00  1.00      0.00         inf   \n",
            "2                  0.8      0.6        1.00  1.25      0.12         inf   \n",
            "3                  0.6      0.6        0.75  1.25      0.12         1.6   \n",
            "4                  1.0      0.6        1.00  1.00      0.00         inf   \n",
            "5                  1.0      0.6        1.00  1.00      0.00         inf   \n",
            "6                  1.0      0.6        1.00  1.00      0.00         inf   \n",
            "7                  1.0      0.6        1.00  1.00      0.00         inf   \n",
            "8                  0.8      0.6        1.00  1.25      0.12         inf   \n",
            "9                  0.6      0.6        0.75  1.25      0.12         1.6   \n",
            "10                 0.8      0.6        1.00  1.25      0.12         inf   \n",
            "11                 0.6      0.6        0.75  1.25      0.12         1.6   \n",
            "\n",
            "    zhangs_metric  \n",
            "0             0.0  \n",
            "1             0.0  \n",
            "2             0.5  \n",
            "3             1.0  \n",
            "4             0.0  \n",
            "5             0.0  \n",
            "6             0.0  \n",
            "7             0.0  \n",
            "8             0.5  \n",
            "9             1.0  \n",
            "10            0.5  \n",
            "11            1.0  \n"
          ]
        }
      ],
      "source": [
        "import warnings\n",
        "warnings.filterwarnings(\"ignore\", category=DeprecationWarning)\n",
        "\n",
        "import pandas as pd\n",
        "from mlxtend.frequent_patterns import apriori, association_rules\n",
        "from mlxtend.preprocessing import TransactionEncoder\n",
        "\n",
        "# Definindo o dataset\n",
        "dataset = [['Milk', 'Onion', 'Nutmeg', 'Kidney Beans', 'Eggs', 'Yogurt'],\n",
        "           ['Dill', 'Onion', 'Nutmeg', 'Kidney Beans', 'Eggs', 'Yogurt'],\n",
        "           ['Milk', 'Apple', 'Kidney Beans', 'Eggs'],\n",
        "           ['Milk', 'Unicorn', 'Corn', 'Kidney Beans', 'Yogurt'],\n",
        "           ['Corn', 'Onion', 'Onion', 'Kidney Beans', 'Ice cream', 'Eggs']]\n",
        "\n",
        "# Criando o codificador de transações e transformando o dataset\n",
        "te = TransactionEncoder()\n",
        "te_ary = te.fit(dataset).transform(dataset)\n",
        "df = pd.DataFrame(te_ary, columns=te.columns_)\n",
        "\n",
        "# Executando o algoritmo Apriori para encontrar conjuntos de itens frequentes\n",
        "frequent_itemsets = apriori(df, min_support=0.7, use_colnames=True)\n",
        "\n",
        "# Gerando as regras de associação a partir dos conjuntos de itens frequentes\n",
        "rules = association_rules(frequent_itemsets, metric=\"confidence\", min_threshold=0.7)\n",
        "\n",
        "# Imprimindo as regras de associação encontradas\n",
        "print(rules)\n"
      ]
    },
    {
      "cell_type": "code",
      "execution_count": null,
      "metadata": {
        "colab": {
          "base_uri": "https://localhost:8080/"
        },
        "id": "TAaPT5fE4Ea2",
        "outputId": "c68c0aeb-483e-43ed-a13a-d04e1afcd733"
      },
      "outputs": [
        {
          "name": "stdout",
          "output_type": "stream",
          "text": [
            "{('Nutmeg',): (('Eggs', 'Kidney Beans', 'Onion', 'Yogurt'), 1.0), ('Eggs', 'Nutmeg'): (('Kidney Beans', 'Onion', 'Yogurt'), 1.0), ('Eggs', 'Yogurt'): (('Kidney Beans', 'Onion'), 1.0), ('Nutmeg', 'Yogurt'): (('Eggs', 'Kidney Beans', 'Onion'), 1.0), ('Nutmeg', 'Onion'): (('Eggs', 'Kidney Beans', 'Yogurt'), 1.0), ('Onion', 'Yogurt'): (('Eggs', 'Kidney Beans'), 1.0), ('Kidney Beans', 'Nutmeg'): (('Eggs', 'Onion', 'Yogurt'), 1.0), ('Eggs', 'Nutmeg', 'Onion'): (('Kidney Beans', 'Yogurt'), 1.0), ('Eggs', 'Nutmeg', 'Yogurt'): (('Kidney Beans', 'Onion'), 1.0), ('Eggs', 'Onion', 'Yogurt'): (('Kidney Beans',), 1.0), ('Nutmeg', 'Onion', 'Yogurt'): (('Eggs', 'Kidney Beans'), 1.0), ('Eggs', 'Kidney Beans', 'Nutmeg'): (('Onion', 'Yogurt'), 1.0), ('Eggs', 'Kidney Beans', 'Yogurt'): (('Onion',), 1.0), ('Kidney Beans', 'Nutmeg', 'Yogurt'): (('Eggs', 'Onion'), 1.0), ('Kidney Beans', 'Nutmeg', 'Onion'): (('Eggs', 'Yogurt'), 1.0), ('Kidney Beans', 'Onion', 'Yogurt'): (('Eggs',), 1.0), ('Eggs', 'Kidney Beans', 'Nutmeg', 'Onion'): (('Yogurt',), 1.0), ('Eggs', 'Kidney Beans', 'Nutmeg', 'Yogurt'): (('Onion',), 1.0), ('Eggs', 'Kidney Beans', 'Onion', 'Yogurt'): (('Nutmeg',), 1.0), ('Eggs', 'Nutmeg', 'Onion', 'Yogurt'): (('Kidney Beans',), 1.0), ('Kidney Beans', 'Nutmeg', 'Onion', 'Yogurt'): (('Eggs',), 1.0), ('Corn', 'Kidney Beans'): (('Onion',), 1.0), ('Corn', 'Onion'): (('Kidney Beans',), 1.0), ('Milk',): (('Kidney Beans',), 1.0), ('Eggs', 'Milk'): (('Kidney Beans',), 1.0), ('Milk', 'Yogurt'): (('Kidney Beans',), 1.0), ('Kidney Beans',): (('Eggs', 'Onion'), 0.8), ('Onion',): (('Eggs', 'Kidney Beans'), 1.0), ('Eggs', 'Kidney Beans'): (('Onion',), 1.0), ('Eggs', 'Onion'): (('Kidney Beans',), 1.0), ('Kidney Beans', 'Onion'): (('Eggs',), 1.0)}\n"
          ]
        }
      ],
      "source": [
        "#!pip install pyfpgrowth\n",
        "import pyfpgrowth\n",
        "transactions = [['Milk', 'Onion', 'Nutmeg', 'Kidney Beans', 'Eggs', 'Yogurt'],\n",
        "                ['Dill', 'Onion', 'Nutmeg', 'Kidney Beans', 'Eggs', 'Yogurt'],\n",
        "                ['Milk', 'Apple', 'Kidney Beans', 'Eggs'],\n",
        "                ['Milk', 'Unicorn', 'Corn', 'Kidney Beans', 'Yogurt'],\n",
        "                ['Corn', 'Onion', 'Onion', 'Kidney Beans', 'Ice cream', 'Eggs']]\n",
        "\n",
        "patterns = pyfpgrowth.find_frequent_patterns(transactions, 2)\n",
        "rules = pyfpgrowth.generate_association_rules(patterns, 0.7)\n",
        "print(rules)\n"
      ]
    }
  ],
  "metadata": {
    "colab": {
      "provenance": []
    },
    "kernelspec": {
      "display_name": "Python 3",
      "name": "python3"
    },
    "language_info": {
      "name": "python"
    }
  },
  "nbformat": 4,
  "nbformat_minor": 0
}
