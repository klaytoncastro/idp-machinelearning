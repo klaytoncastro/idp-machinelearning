{
  "nbformat": 4,
  "nbformat_minor": 0,
  "metadata": {
    "colab": {
      "provenance": [],
      "authorship_tag": "ABX9TyM9uziiCBoAXT3PPaRmk9iq",
      "include_colab_link": true
    },
    "kernelspec": {
      "name": "python3",
      "display_name": "Python 3"
    },
    "language_info": {
      "name": "python"
    }
  },
  "cells": [
    {
      "cell_type": "markdown",
      "metadata": {
        "id": "view-in-github",
        "colab_type": "text"
      },
      "source": [
        "<a href=\"https://colab.research.google.com/github/klaytoncastro/idp-machinelearning/blob/main/wine-data-ml.ipynb\" target=\"_parent\"><img src=\"https://colab.research.google.com/assets/colab-badge.svg\" alt=\"Open In Colab\"/></a>"
      ]
    },
    {
      "cell_type": "code",
      "execution_count": null,
      "metadata": {
        "id": "Czz9jbL-M_3B"
      },
      "outputs": [],
      "source": [
        "import pandas as pd\n",
        "arquivo = pd.read csv('C:/DT/wine dataset.csv')\n",
        "arquivo.head()"
      ]
    },
    {
      "cell_type": "code",
      "source": [
        "arquivo('style']=arquivol'style'l.replace('red'\n",
        ", 0)\n",
        "arquivo['style']=arquivo['style'].replace('white',\n",
        "1)"
      ],
      "metadata": {
        "id": "_Fqt0f8cNuo7"
      },
      "execution_count": null,
      "outputs": []
    },
    {
      "cell_type": "code",
      "source": [
        "y = arquivo['style']\n",
        "X\n",
        "= arquivo.drop('style', axis = 1)"
      ],
      "metadata": {
        "id": "yD_B4dION0_w"
      },
      "execution_count": null,
      "outputs": []
    },
    {
      "cell_type": "code",
      "source": [
        "from sklearn.model selection import train test split\n",
        "x treino, x teste, y_treino, y_teste = train test split(x, y, test size = 0.3)"
      ],
      "metadata": {
        "id": "jSA9BIOjN3LA"
      },
      "execution_count": null,
      "outputs": []
    },
    {
      "cell_type": "code",
      "source": [
        "from sklearn. ensemble import ExtraTreesClassifier\n",
        "modelo = ExtraTreesClassifier()\n",
        "modelo.fit(x treino, y treino)"
      ],
      "metadata": {
        "id": "R47Y9q7CN6VJ"
      },
      "execution_count": null,
      "outputs": []
    },
    {
      "cell_type": "code",
      "source": [
        "resultado = modelo.score(x_teste, y_teste)\n",
        "print (\"Acurácia:\"\n",
        ", resultado)"
      ],
      "metadata": {
        "id": "ky6sqtCeN8Iu"
      },
      "execution_count": null,
      "outputs": []
    }
  ]
}